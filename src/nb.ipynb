{
 "cells": [
  {
   "cell_type": "markdown",
   "metadata": {},
   "source": [
    "# Similarity Modeling"
   ]
  },
  {
   "cell_type": "markdown",
   "metadata": {},
   "source": [
    "## Versions"
   ]
  },
  {
   "cell_type": "code",
   "execution_count": 4,
   "metadata": {},
   "outputs": [
    {
     "name": "stdout",
     "output_type": "stream",
     "text": [
      "Python 3.8.5\n",
      "libopencv                 4.4.0                    py38_2    conda-forge\n",
      "librosa                   0.8.0              pyh9f0ad1d_0    conda-forge\n",
      "numpy                     1.19.2           py38h456fd55_0  \n",
      "numpy-base                1.19.2           py38hcfb5961_0  \n",
      "opencv                    4.4.0                    py38_2    conda-forge\n",
      "pandas                    1.1.3            py38hb1e8313_0  \n",
      "py-opencv                 4.4.0            py38h23f93f0_2    conda-forge\n",
      "seaborn                   0.11.0                     py_0  \n"
     ]
    }
   ],
   "source": [
    "!python --version\n",
    "!conda list |grep -E \"pandas|numpy|seaborn|librosa|opencv\""
   ]
  },
  {
   "cell_type": "markdown",
   "metadata": {},
   "source": [
    "## check for data"
   ]
  },
  {
   "cell_type": "code",
   "execution_count": null,
   "metadata": {},
   "outputs": [],
   "source": []
  },
  {
   "cell_type": "code",
   "execution_count": null,
   "metadata": {},
   "outputs": [],
   "source": []
  }
 ],
 "metadata": {
  "kernelspec": {
   "display_name": "Python3.8.5 (simmod)",
   "language": "python",
   "name": "simmod"
  },
  "language_info": {
   "codemirror_mode": {
    "name": "ipython",
    "version": 3
   },
   "file_extension": ".py",
   "mimetype": "text/x-python",
   "name": "python",
   "nbconvert_exporter": "python",
   "pygments_lexer": "ipython3",
   "version": "3.8.5"
  }
 },
 "nbformat": 4,
 "nbformat_minor": 4
}
